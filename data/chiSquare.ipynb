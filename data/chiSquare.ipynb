{
 "cells": [
  {
   "cell_type": "code",
   "execution_count": null,
   "metadata": {},
   "outputs": [],
   "source": [
    "import numpy as np\n",
    "import pandas as pd\n",
    "import math"
   ]
  },
  {
   "cell_type": "code",
   "execution_count": 2,
   "metadata": {},
   "outputs": [
    {
     "name": "stdout",
     "output_type": "stream",
     "text": [
      "214.30884660072016\n",
      "140\n"
     ]
    }
   ],
   "source": [
    "import numpy as np\n",
    "import pandas as pd\n",
    "import math\n",
    "bin=1\n",
    "OF=[17,\n",
    "21,\n",
    "20,\n",
    "24,\n",
    "17,\n",
    "19,\n",
    "22]\n",
    "lembda=2.8\n",
    "LB=np.arange(0,len(OF)*bin,bin)\n",
    "# print(LB)\n",
    "UB=np.arange(bin,len(OF)*bin+bin,bin)\n",
    "# print(UB)\n",
    "LBP=[]\n",
    "UBP=[]\n",
    "value=0\n",
    "for i in LB:\n",
    "    for x in range(i+1) :\n",
    "       value=value+(((2.7182**(-lembda))*lembda**x)/math.factorial(x))\n",
    "    LBP.append(value)\n",
    "    value=0\n",
    "for i in UB:\n",
    "    for x in range(i+1) :\n",
    "       value=value+(((2.7182**(-lembda))*lembda**x)/math.factorial(x))\n",
    "    UBP.append(value)\n",
    "    value=0\n",
    "UBP=np.array(UBP)\n",
    "LBP=np.array(LBP)\n",
    "Probablity=np.subtract(UBP,LBP)\n",
    "EF=np.array(Probablity*(sum(OF)))\n",
    "ChiSq=np.array(((OF-EF)**2)/EF)\n",
    "print(sum(ChiSq))\n",
    "\n",
    "result=[OF,LB,UB,LBP,UBP,Probablity,EF,ChiSq]\n",
    "df=pd.DataFrame(result,index=[\"OF\",\"LB\",\"UB\",\"LBP\",\"UBP\",\"Probablity\",\"EF\",\"ChiSq\"])\n",
    "df=df.transpose()\n",
    "print(sum(OF))\n",
    "df\n",
    "df.to_excel('chisquare.xlsx')\n",
    "\n",
    "\n"
   ]
  }
 ],
 "metadata": {
  "kernelspec": {
   "display_name": "Python 3",
   "language": "python",
   "name": "python3"
  },
  "language_info": {
   "codemirror_mode": {
    "name": "ipython",
    "version": 3
   },
   "file_extension": ".py",
   "mimetype": "text/x-python",
   "name": "python",
   "nbconvert_exporter": "python",
   "pygments_lexer": "ipython3",
   "version": "3.11.4"
  },
  "orig_nbformat": 4
 },
 "nbformat": 4,
 "nbformat_minor": 2
}
